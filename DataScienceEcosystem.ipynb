{
 "cells": [
  {
   "cell_type": "markdown",
   "id": "caf0204d",
   "metadata": {},
   "source": [
    "# Data Science Tools and Ecosystem"
   ]
  },
  {
   "cell_type": "markdown",
   "id": "62a06d05",
   "metadata": {},
   "source": [
    "In this notebook, Dat Science Tools and Ecosystem are summarized."
   ]
  },
  {
   "cell_type": "markdown",
   "id": "ee1ac42e",
   "metadata": {},
   "source": [
    "**Objectives:**"
   ]
  },
  {
   "cell_type": "markdown",
   "id": "2d739fb5",
   "metadata": {},
   "source": [
    "- List popular lanaguage that Data Scientist use\n",
    "- List commonly used libraries used by Data Scientists\n",
    "- List development environment open source tools used in Data Science\n",
    "- List some examples of aritmetic expressions use in python"
   ]
  },
  {
   "cell_type": "markdown",
   "id": "52ab73c5",
   "metadata": {},
   "source": [
    "Some of the popular languages that Data Scienctists use are:\n",
    "\n",
    "1. Python\n",
    "2. R\n",
    "3. SQL\n",
    "4. Other Languages (Java, Julia, Hadoop, Scala, JuliaDB, C++, JavaScript)"
   ]
  },
  {
   "cell_type": "markdown",
   "id": "91bc1a59",
   "metadata": {},
   "source": [
    "Some commonly used libraries used by Data Scienctists include:\n",
    "    \n",
    "    1. Pandas\n",
    "    2. Numpy\n",
    "    3. Matplotlib\n",
    "    4. Seaborn\n",
    "    5. Sciket-learn"
   ]
  },
  {
   "cell_type": "markdown",
   "id": "4055d7d0",
   "metadata": {},
   "source": [
    "|Data Science Tools|\n",
    "|------------------|\n",
    "|TensorFlow|\n",
    "|Apache Spark|\n",
    "|Rstudio|"
   ]
  },
  {
   "cell_type": "markdown",
   "id": "a31626d9",
   "metadata": {},
   "source": [
    "### Below are a few examples for evaluating arithmetic expressions in Python"
   ]
  },
  {
   "cell_type": "code",
   "execution_count": 3,
   "id": "d916d5df",
   "metadata": {},
   "outputs": [
    {
     "data": {
      "text/plain": [
       "17"
      ]
     },
     "execution_count": 3,
     "metadata": {},
     "output_type": "execute_result"
    }
   ],
   "source": [
    "#This is a simple arithmentic expression to multiply the add integers\n",
    "(3*4)+5"
   ]
  },
  {
   "cell_type": "code",
   "execution_count": 4,
   "id": "362c4d7d",
   "metadata": {},
   "outputs": [
    {
     "name": "stdout",
     "output_type": "stream",
     "text": [
      "3.3333333333333335\n"
     ]
    }
   ],
   "source": [
    "#This will convert 200 mintures to hours by dividing by 60\n",
    "hours = 200/60\n",
    "print(hours)"
   ]
  },
  {
   "cell_type": "markdown",
   "id": "4945894c",
   "metadata": {},
   "source": [
    "## Author\n",
    "Alexis Harrison"
   ]
  },
  {
   "cell_type": "code",
   "execution_count": null,
   "id": "1d376cb3",
   "metadata": {},
   "outputs": [],
   "source": []
  }
 ],
 "metadata": {
  "kernelspec": {
   "display_name": "Python 3 (ipykernel)",
   "language": "python",
   "name": "python3"
  },
  "language_info": {
   "codemirror_mode": {
    "name": "ipython",
    "version": 3
   },
   "file_extension": ".py",
   "mimetype": "text/x-python",
   "name": "python",
   "nbconvert_exporter": "python",
   "pygments_lexer": "ipython3",
   "version": "3.10.9"
  }
 },
 "nbformat": 4,
 "nbformat_minor": 5
}
